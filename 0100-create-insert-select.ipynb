{
 "cells": [
  {
   "cell_type": "code",
   "execution_count": 38,
   "metadata": {
    "collapsed": false
   },
   "outputs": [],
   "source": [
    "import sqlite3 #sqlite3 is a database library\n",
    "conn = sqlite3.connect(':memory:') #create and get connection to in-memory temporary database\n",
    "c = conn.cursor() #cursors are used for executing commands and selecting data from database"
   ]
  },
  {
   "cell_type": "code",
   "execution_count": 39,
   "metadata": {
    "collapsed": false
   },
   "outputs": [],
   "source": [
    "# Create table\n",
    "c.execute('''CREATE TABLE fruit\n",
    "             ( fruit_id   INTEGER\n",
    "             , fruit_name TEXT\n",
    "             , price      NUMERIC)''')\n",
    "\n",
    "# Insert data\n",
    "c.execute(\"INSERT INTO fruit VALUES (1, 'apple', 0.88)\")\n",
    "c.execute(\"INSERT INTO fruit VALUES (2, 'banana', 0.34)\")\n",
    "c.execute(\"INSERT INTO fruit VALUES (3, 'orange', 1.07)\")\n",
    "\n",
    "# Save (commit) the changes\n",
    "conn.commit()"
   ]
  },
  {
   "cell_type": "code",
   "execution_count": 40,
   "metadata": {
    "collapsed": false
   },
   "outputs": [
    {
     "name": "stdout",
     "output_type": "stream",
     "text": [
      "+----------+------------+-------+\n",
      "| fruit_id | fruit_name | price |\n",
      "+----------+------------+-------+\n",
      "|    1     |   apple    |  0.88 |\n",
      "|    2     |   banana   |  0.34 |\n",
      "|    3     |   orange   |  1.07 |\n",
      "+----------+------------+-------+\n"
     ]
    }
   ],
   "source": [
    "#print table\n",
    "from prettytable import from_db_cursor \n",
    "c.execute(\"SELECT * FROM fruit\") \n",
    "pt = from_db_cursor(c)\n",
    "print (pt)\n",
    "\n",
    "conn.close() #close connection when finished"
   ]
  }
 ],
 "metadata": {
  "anaconda-cloud": {},
  "kernelspec": {
   "display_name": "Python [Root]",
   "language": "python",
   "name": "Python [Root]"
  },
  "language_info": {
   "codemirror_mode": {
    "name": "ipython",
    "version": 3
   },
   "file_extension": ".py",
   "mimetype": "text/x-python",
   "name": "python",
   "nbconvert_exporter": "python",
   "pygments_lexer": "ipython3",
   "version": "3.5.2"
  }
 },
 "nbformat": 4,
 "nbformat_minor": 0
}
