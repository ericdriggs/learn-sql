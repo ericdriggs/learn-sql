{
 "cells": [
  {
   "cell_type": "code",
   "execution_count": 10,
   "metadata": {
    "collapsed": false
   },
   "outputs": [
    {
     "data": {
      "text/html": [
       "<script>\n",
       "code_show=true; \n",
       "function code_toggle() {\n",
       " if (code_show){\n",
       " $('div.input').hide();\n",
       " } else {\n",
       " $('div.input').show();\n",
       " }\n",
       " code_show = !code_show\n",
       "} \n",
       "$( document ).ready(code_toggle);\n",
       "</script>\n",
       "<form action=\"javascript:code_toggle()\"><input type=\"submit\" value=\"Click here to toggle on/off the raw code.\"></form>"
      ],
      "text/plain": [
       "<IPython.core.display.HTML object>"
      ]
     },
     "execution_count": 10,
     "metadata": {},
     "output_type": "execute_result"
    }
   ],
   "source": [
    "from IPython.display import HTML\n",
    "\n",
    "HTML('''<script>\n",
    "code_show=true; \n",
    "function code_toggle() {\n",
    " if (code_show){\n",
    " $('div.input').hide();\n",
    " } else {\n",
    " $('div.input').show();\n",
    " }\n",
    " code_show = !code_show\n",
    "} \n",
    "$( document ).ready(code_toggle);\n",
    "</script>\n",
    "<form action=\"javascript:code_toggle()\"><input type=\"submit\" value=\"Click here to toggle on/off the raw code.\"></form>''')\n"
   ]
  },
  {
   "cell_type": "markdown",
   "metadata": {},
   "source": [
    "##What is a relational Database?"
   ]
  },
  {
   "cell_type": "markdown",
   "metadata": {},
   "source": [
    "\"A database is a means of storing information in such a way that information can be retrieved from it. In simplest terms, a relational database is one that presents information in tables with rows and columns. A table is referred to as a relation in the sense that it is a collection of objects of the same type (rows). Data in a table can be related according to common keys or concepts, and the ability to retrieve related data from a table is the basis for the term relational database.\"\n",
    "\n",
    "https://docs.oracle.com/javase/tutorial/jdbc/overview/database.html"
   ]
  },
  {
   "cell_type": "markdown",
   "metadata": {},
   "source": [
    "##How does a database compare to a spreadsheet?"
   ]
  },
  {
   "cell_type": "markdown",
   "metadata": {},
   "source": [
    "###Table\n",
    "\n",
    "Each table is like a separate spreadsheet (or spreadsheet tab).\n"
   ]
  },
  {
   "cell_type": "markdown",
   "metadata": {},
   "source": [
    "###Example Table: Fruit\n",
    "\n",
    "In the example below, we create the fruit table, insert data into it and then display that data. The text inside of the c.execute statements is Structured Query Language (SQL), which is used to create, read, update and delete tables and the data inside of them."
   ]
  },
  {
   "cell_type": "code",
   "execution_count": 11,
   "metadata": {
    "collapsed": false,
    "scrolled": true
   },
   "outputs": [
    {
     "name": "stdout",
     "output_type": "stream",
     "text": [
      "Fruit\n",
      "+----------+------------+-------+\n",
      "| fruit_id | fruit_name | price |\n",
      "+----------+------------+-------+\n",
      "|    1     |   apple    |  0.88 |\n",
      "|    2     |   banana   |  0.34 |\n",
      "|    3     |   orange   |  1.07 |\n",
      "|    4     | forbidden  |  None |\n",
      "|    5     |            |  None |\n",
      "|    6     |    None    |   0   |\n",
      "+----------+------------+-------+\n"
     ]
    }
   ],
   "source": [
    "import sqlite3 #sqlite3 is a database library\n",
    "from prettytable import from_db_cursor #used for printing tables/queries\n",
    "\n",
    "print (\"Fruit\")\n",
    "conn = sqlite3.connect(':memory:') #create and get connection to in-memory temporary database\n",
    "c = conn.cursor() #cursors are used for executing commands and selecting data from database\n",
    "\n",
    "# Create table\n",
    "c.execute('DROP TABLE IF EXISTS fruit')\n",
    "c.execute('''CREATE TABLE fruit\n",
    "             ( fruit_id   INTEGER PRIMARY KEY\n",
    "             , fruit_name TEXT\n",
    "             , price      NUMERIC)''')\n",
    "\n",
    "# Insert data\n",
    "c.execute(\"INSERT INTO fruit VALUES (1, 'apple', 0.88)\")\n",
    "c.execute(\"INSERT INTO fruit VALUES (2, 'banana', 0.34)\")\n",
    "c.execute(\"INSERT INTO fruit VALUES (3, 'orange', 1.07)\")\n",
    "c.execute(\"INSERT INTO fruit VALUES (4, 'forbidden', NULL)\")\n",
    "c.execute(\"INSERT INTO fruit VALUES (5, '', NULL)\")\n",
    "c.execute(\"INSERT INTO fruit VALUES (NULL, NULL, 0)\")\n",
    "\n",
    "conn.commit() # Save (commit) the changes\n",
    "\n",
    "c.execute(\"SELECT * FROM fruit ORDER BY fruit_id\")  #select all table rows\n",
    "print ( from_db_cursor(c) ) #print query\n"
   ]
  },
  {
   "cell_type": "markdown",
   "metadata": {},
   "source": [
    "###Column\n",
    "\n",
    "Unlike spreadsheet columns, database columns each have a specific type and can only store certain types of data. The most common types include: TEXT, NUMERIC, INTEGER and REAL. Unlike spreadsheets, columns cannot be merged. In the above example, the columns are: `fruit_id`, `fruit_name` and `price`. The `fruit_id` column is a primary key which means values for it cannot be repeated so that a value uniquely identifies its row. \n",
    "\n",
    "see https://www.sqlite.org/datatype3.html"
   ]
  },
  {
   "cell_type": "markdown",
   "metadata": {},
   "source": [
    "###Row\n",
    "\n",
    "Like spreadsheets, tables are organized into rows of data. The example above has 6 rows of data."
   ]
  },
  {
   "cell_type": "markdown",
   "metadata": {},
   "source": [
    "###Field\n",
    "\n",
    "A column for a particular row is called a field. "
   ]
  },
  {
   "cell_type": "markdown",
   "metadata": {},
   "source": [
    "###NULL\n",
    "\n",
    "If a field has no data, it contains the special value `NULL`. This is different than the empty string: \"\" and the number: 0. Primary keys usually cannot be NULL. "
   ]
  },
  {
   "cell_type": "code",
   "execution_count": 12,
   "metadata": {
    "collapsed": false,
    "scrolled": true
   },
   "outputs": [
    {
     "name": "stdout",
     "output_type": "stream",
     "text": [
      "Fruit with NULL price\n",
      "+----------+------------+-------+\n",
      "| fruit_id | fruit_name | price |\n",
      "+----------+------------+-------+\n",
      "|    4     | forbidden  |  None |\n",
      "|    5     |            |  None |\n",
      "+----------+------------+-------+\n",
      "\n",
      "Fruit with price = 0\n",
      "+----------+------------+-------+\n",
      "| fruit_id | fruit_name | price |\n",
      "+----------+------------+-------+\n",
      "|    6     |    None    |   0   |\n",
      "+----------+------------+-------+\n",
      "\n",
      "Fruit with name = \"\"\n",
      "+----------+------------+-------+\n",
      "| fruit_id | fruit_name | price |\n",
      "+----------+------------+-------+\n",
      "|    5     |            |  None |\n",
      "+----------+------------+-------+\n"
     ]
    }
   ],
   "source": [
    "print (\"Fruit with NULL price\")\n",
    "c.execute('''SELECT * FROM fruit \n",
    "             WHERE price is NULL \n",
    "             ORDER BY fruit_id''') \n",
    "pt = from_db_cursor(c)\n",
    "print (pt)\n",
    "\n",
    "print (\"\\nFruit with price = 0\")\n",
    "c.execute('''SELECT * FROM fruit \n",
    "             WHERE price = 0\n",
    "             ORDER BY fruit_id''') \n",
    "pt = from_db_cursor(c)\n",
    "print (pt)\n",
    "\n",
    "print ('\\nFruit with name = \"\"')\n",
    "c.execute('''SELECT * FROM fruit \n",
    "             WHERE fruit_name = \"\" \n",
    "             ORDER BY fruit_id''') \n",
    "pt = from_db_cursor(c)\n",
    "print (pt)\n"
   ]
  },
  {
   "cell_type": "markdown",
   "metadata": {
    "collapsed": false,
    "scrolled": true
   },
   "source": [
    "##Querying data with Structure Query Language (SQL)\n",
    "\n",
    "SQL Queries are where we see the true power of relational databases. Using SQL we can ask powerful questions to filter, join and aggregate data. see: https://en.wikipedia.org/wiki/SQL#Queries"
   ]
  },
  {
   "cell_type": "markdown",
   "metadata": {},
   "source": [
    "##Simple queries from one table\n",
    "\n",
    "\n",
    "All queries begin with `SELECT`. \n",
    "\n",
    "Next, you specify which columns and formulas to select, separated by commas. For all column use the `*` character. You can  specify formulas in your select such as:\n",
    "\n",
    "`SELECT part_id, part_price + part_tax AS total_part_price FROM parts`. \n",
    "\n",
    "Note the use of `AS` to create an alias for the formula:  `part_price + part_tax`\n",
    "\n",
    "Next, you specify the table(s) your query will read data from. \n"
   ]
  },
  {
   "cell_type": "markdown",
   "metadata": {},
   "source": [
    "###Joins\n",
    "\n",
    "The examples above have all only used a single table. Joins allow us to combine data from more than one table.  "
   ]
  },
  {
   "cell_type": "markdown",
   "metadata": {},
   "source": [
    "###Normalization\n",
    "\n",
    "You might ask why we need more than one table. Why not just store all the data in one table? The short answer is that data repeated more than one place is easy to mess up by placing it into a conflicting state. In the example below, you can see that salesperson_id `2` has different phone numbers and emails for different rows. It would be difficult to tell which phone number or email is the right one."
   ]
  },
  {
   "cell_type": "code",
   "execution_count": 13,
   "metadata": {
    "collapsed": false,
    "scrolled": true
   },
   "outputs": [
    {
     "name": "stdout",
     "output_type": "stream",
     "text": [
      "This should be two tables, not one since it allows for inconsistent data.\n",
      "+---------+-------------+----------+-------------------+-----------------------------+----------------------+\n",
      "| sale_id | sale_amount | sale_tax | representative_id | representative_phone_number | representative_email |\n",
      "+---------+-------------+----------+-------------------+-----------------------------+----------------------+\n",
      "|    1    |     1.1     |   0.11   |         1         |          5554441111         |  employee1@fake.com  |\n",
      "|    2    |     2.2     |   0.22   |         2         |          5554442222         |  employee2@fake.com  |\n",
      "|    3    |     3.3     |   0.33   |         2         |          5554442223         | employee2b@fake.com  |\n",
      "+---------+-------------+----------+-------------------+-----------------------------+----------------------+\n"
     ]
    }
   ],
   "source": [
    "print(\"This should be two tables, not one since it allows for inconsistent data.\")\n",
    "c.execute('DROP TABLE IF EXISTS sale_representative\t')\n",
    "c.execute('''CREATE TABLE sale_representative\t\n",
    "             ( sale_id INTEGER PRIMARY KEY\n",
    "             , sale_amount NUMERIC\n",
    "             , sale_tax NUMERIC\n",
    "             , representative_id INTEGER\n",
    "             , representative_phone_number INTEGER\n",
    "             , representative_email TEXT)''')\n",
    "# Insert data\n",
    "\n",
    "c.execute('''INSERT INTO sale_representative \n",
    "               (\"sale_id\", \"sale_amount\", \"sale_tax\", \"representative_id\", \"representative_phone_number\", \"representative_email\") \n",
    "             VALUES (NULL, 1.10, .11, 1, 5554441111, \"employee1@fake.com\") ''')\n",
    "\n",
    "c.execute('''INSERT INTO sale_representative VALUES (NULL, 2.20, .22, 2, 5554442222, \"employee2@fake.com\") ''')\n",
    "c.execute('''INSERT INTO sale_representative VALUES (NULL, 3.30, .33, 2, 5554442223, \"employee2b@fake.com\") ''')\n",
    "\n",
    "# Save (commit) the changes\n",
    "conn.commit()\n",
    "\n",
    "#print table\n",
    "from prettytable import from_db_cursor \n",
    "c.execute(\"SELECT * FROM sale_representative\t ORDER BY sale_id\") \n",
    "pt = from_db_cursor(c)\n",
    "print (pt)"
   ]
  },
  {
   "cell_type": "code",
   "execution_count": 14,
   "metadata": {
    "collapsed": false,
    "scrolled": true
   },
   "outputs": [
    {
     "name": "stdout",
     "output_type": "stream",
     "text": [
      "Now that we have two tables with separate responsibilities, data isn't duplicated\n",
      "\n",
      "representative\n",
      "+-------------------+-----------------------------+----------------------+\n",
      "| representative_id | representative_phone_number | representative_email |\n",
      "+-------------------+-----------------------------+----------------------+\n",
      "|         1         |          5554441111         |  employee1@fake.com  |\n",
      "|         2         |          5554442222         |  employee2@fake.com  |\n",
      "+-------------------+-----------------------------+----------------------+\n",
      "\n",
      "sale\n",
      "+---------+-------------+----------+-------------------+\n",
      "| sale_id | sale_amount | sale_tax | representative_fk |\n",
      "+---------+-------------+----------+-------------------+\n",
      "|    1    |     1.1     |   0.11   |         1         |\n",
      "|    2    |     2.2     |   0.22   |         2         |\n",
      "|    3    |     3.3     |   0.33   |         2         |\n",
      "+---------+-------------+----------+-------------------+\n"
     ]
    }
   ],
   "source": [
    "print(\"Now that we have two tables with separate responsibilities, data isn't duplicated\")\n",
    "c.execute('DROP TABLE IF EXISTS representative')\n",
    "c.execute('''CREATE TABLE representative \n",
    "             ( representative_id INTEGER PRIMARY KEY\n",
    "             , representative_phone_number INTEGER\n",
    "             , representative_email TEXT\n",
    "             )''')\n",
    "\n",
    "c.execute('''INSERT INTO representative (\"representative_id\", \"representative_phone_number\", \"representative_email\") \n",
    "             VALUES (1, 5554441111, \"employee1@fake.com\") ''')\n",
    "\n",
    "c.execute('''INSERT INTO representative (\"representative_id\", \"representative_phone_number\", \"representative_email\") \n",
    "             VALUES (2, 5554442222, \"employee2@fake.com\") ''')\n",
    "\n",
    "c.execute('DROP TABLE IF EXISTS sale')\n",
    "c.execute('''CREATE TABLE sale \n",
    "             ( sale_id INTEGER PRIMARY KEY\n",
    "             , sale_amount NUMERIC\n",
    "             , sale_tax NUMERIC\n",
    "             , representative_fk INTEGER\n",
    "             , FOREIGN KEY(representative_fk) REFERENCES representative(representative_id)\n",
    "             )''')\n",
    "# Insert data\n",
    "\n",
    "\n",
    "c.execute('''INSERT INTO sale (sale_id, sale_amount, sale_tax, representative_fk) VALUES (NULL, 1.10, .11, 1) ''')\n",
    "c.execute('''INSERT INTO sale (sale_id, sale_amount, sale_tax, representative_fk) VALUES (NULL, 2.20, .22, 2) ''')\n",
    "c.execute('''INSERT INTO sale (sale_id, sale_amount, sale_tax, representative_fk) VALUES (NULL, 3.30, .33, 2) ''')\n",
    "\n",
    "# Save (commit) the changes\n",
    "conn.commit()\n",
    "\n",
    "print(\"\\nrepresentative\")\n",
    "c.execute(\"SELECT * FROM representative    ORDER BY representative_id\") \n",
    "print ( from_db_cursor(c) )\n",
    "\n",
    "print(\"\\nsale\")\n",
    "c.execute(\"SELECT * FROM sale ORDER BY sale_id\") \n",
    "print ( from_db_cursor(c) )"
   ]
  },
  {
   "cell_type": "code",
   "execution_count": 15,
   "metadata": {
    "collapsed": false,
    "scrolled": true
   },
   "outputs": [
    {
     "name": "stdout",
     "output_type": "stream",
     "text": [
      "We can still join the data, but duplicate data (and inconsistent data) no longer possible\n",
      "+---------+-------------------+-----------------------------+----------------------+\n",
      "| sale_id | representative_id | representative_phone_number | representative_email |\n",
      "+---------+-------------------+-----------------------------+----------------------+\n",
      "|    1    |         1         |          5554441111         |  employee1@fake.com  |\n",
      "|    2    |         2         |          5554442222         |  employee2@fake.com  |\n",
      "|    3    |         2         |          5554442222         |  employee2@fake.com  |\n",
      "+---------+-------------------+-----------------------------+----------------------+\n"
     ]
    }
   ],
   "source": [
    "print(\"We can still join the data, but duplicate data (and inconsistent data) no longer possible\")\n",
    "\n",
    "c.execute('''SELECT sale.sale_id, representative.representative_id, representative_phone_number, representative_email FROM sale \n",
    "             INNER JOIN representative on sale.representative_fk = representative.representative_id \n",
    "             ORDER BY sale_id ASC''') \n",
    "print ( from_db_cursor(c) )"
   ]
  },
  {
   "cell_type": "code",
   "execution_count": 16,
   "metadata": {
    "collapsed": false,
    "scrolled": true
   },
   "outputs": [
    {
     "data": {
      "text/plain": [
       "<function Cursor.close>"
      ]
     },
     "execution_count": 16,
     "metadata": {},
     "output_type": "execute_result"
    }
   ],
   "source": [
    "c.close"
   ]
  }
 ],
 "metadata": {
  "anaconda-cloud": {},
  "kernelspec": {
   "display_name": "Python 3",
   "language": "python",
   "name": "python3"
  },
  "language_info": {
   "codemirror_mode": {
    "name": "ipython",
    "version": 3
   },
   "file_extension": ".py",
   "mimetype": "text/x-python",
   "name": "python",
   "nbconvert_exporter": "python",
   "pygments_lexer": "ipython3",
   "version": "3.5.2"
  }
 },
 "nbformat": 4,
 "nbformat_minor": 0
}
