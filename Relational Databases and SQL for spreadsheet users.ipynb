{
 "cells": [
  {
   "cell_type": "markdown",
   "metadata": {},
   "source": [
    "##What is a relational Database?"
   ]
  },
  {
   "cell_type": "markdown",
   "metadata": {},
   "source": [
    "\"A database is a means of storing information in such a way that information can be retrieved from it. In simplest terms, a relational database is one that presents information in tables with rows and columns. A table is referred to as a relation in the sense that it is a collection of objects of the same type (rows). Data in a table can be related according to common keys or concepts, and the ability to retrieve related data from a table is the basis for the term relational database.\"\n",
    "\n",
    "https://docs.oracle.com/javase/tutorial/jdbc/overview/database.html"
   ]
  },
  {
   "cell_type": "markdown",
   "metadata": {},
   "source": [
    "##How does a database compare to a spreadsheet?"
   ]
  },
  {
   "cell_type": "markdown",
   "metadata": {},
   "source": [
    "###Table\n",
    "\n",
    "Each table is like a separate spreadsheet (or spreadsheet tab).\n"
   ]
  },
  {
   "cell_type": "code",
   "execution_count": 26,
   "metadata": {
    "collapsed": false
   },
   "outputs": [
    {
     "name": "stdout",
     "output_type": "stream",
     "text": [
      "The fruit table\n",
      "+----------+------------+-------+\n",
      "| fruit_id | fruit_name | price |\n",
      "+----------+------------+-------+\n",
      "|    0     |            |   0   |\n",
      "|    1     |   apple    |  0.88 |\n",
      "|    2     |   banana   |  0.34 |\n",
      "|    3     |   orange   |  1.07 |\n",
      "|    4     | forbidden  |  None |\n",
      "|    5     |    None    |  None |\n",
      "+----------+------------+-------+\n"
     ]
    }
   ],
   "source": [
    "print (\"The fruit table\")\n",
    "import sqlite3 #sqlite3 is a database library\n",
    "conn = sqlite3.connect(':memory:') #create and get connection to in-memory temporary database\n",
    "c = conn.cursor() #cursors are used for executing commands and selecting data from database\n",
    "\n",
    "# Create table\n",
    "c.execute('''CREATE TABLE fruit\n",
    "             ( fruit_id   INTEGER PRIMARY KEY\n",
    "             , fruit_name TEXT\n",
    "             , price      NUMERIC)''')\n",
    "\n",
    "# Insert data\n",
    "\n",
    "c.execute(\"INSERT INTO fruit VALUES (1, 'apple', 0.88)\")\n",
    "c.execute(\"INSERT INTO fruit VALUES (2, 'banana', 0.34)\")\n",
    "c.execute(\"INSERT INTO fruit VALUES (3, 'orange', 1.07)\")\n",
    "c.execute(\"INSERT INTO fruit VALUES (4, 'forbidden', NULL)\")\n",
    "c.execute(\"INSERT INTO fruit VALUES (0, '', 0)\")\n",
    "c.execute(\"INSERT INTO fruit VALUES (NULL, NULL, NULL)\")\n",
    "\n",
    "# Save (commit) the changes\n",
    "conn.commit()\n",
    "\n",
    "#print table\n",
    "from prettytable import from_db_cursor \n",
    "c.execute(\"SELECT * FROM fruit ORDER BY fruit_id\") \n",
    "pt = from_db_cursor(c)\n",
    "print (pt)"
   ]
  },
  {
   "cell_type": "markdown",
   "metadata": {},
   "source": [
    "###Column\n",
    "\n",
    "Unlike spreadsheet columns, database columns each have a specific type and can only store certain types of data. The most common types include: TEXT, NUMERIC, INTEGER and REAL. Unlike spreadsheets, columns cannot be merged. In the above example, the columns are: `fruit_id`, `fruit_name` and `price`. The `fruit_id` column is a primary key which means values for it cannot be repeated so that a value uniquely identifies its row. \n",
    "\n",
    "see https://www.sqlite.org/datatype3.html"
   ]
  },
  {
   "cell_type": "markdown",
   "metadata": {},
   "source": [
    "###Row\n",
    "\n",
    "Like spreadsheets, tables are organized into rows of data. The example above has 6 rows of data."
   ]
  },
  {
   "cell_type": "markdown",
   "metadata": {},
   "source": [
    "###Field\n",
    "\n",
    "A column for a particular row is called a field. If a field has no data, it contains the special value `NULL`. This is different than the empty string: \"\" and the number: 0. Primary keys usually cannot be NULL."
   ]
  },
  {
   "cell_type": "code",
   "execution_count": 27,
   "metadata": {
    "collapsed": false
   },
   "outputs": [
    {
     "name": "stdout",
     "output_type": "stream",
     "text": [
      "Fruit with NULL price\n",
      "+----------+------------+-------+\n",
      "| fruit_id | fruit_name | price |\n",
      "+----------+------------+-------+\n",
      "|    4     | forbidden  |  None |\n",
      "|    5     |    None    |  None |\n",
      "+----------+------------+-------+\n"
     ]
    }
   ],
   "source": [
    "print (\"Fruit with NULL price\")\n",
    "c.execute('''SELECT * FROM fruit \n",
    "             WHERE price is NULL \n",
    "             ORDER BY fruit_id''') \n",
    "pt = from_db_cursor(c)\n",
    "print (pt)\n"
   ]
  },
  {
   "cell_type": "code",
   "execution_count": 28,
   "metadata": {
    "collapsed": true
   },
   "outputs": [],
   "source": [
    "conn.close() #close connection when finished"
   ]
  }
 ],
 "metadata": {
  "kernelspec": {
   "display_name": "Python [Root]",
   "language": "python",
   "name": "Python [Root]"
  },
  "language_info": {
   "codemirror_mode": {
    "name": "ipython",
    "version": 3
   },
   "file_extension": ".py",
   "mimetype": "text/x-python",
   "name": "python",
   "nbconvert_exporter": "python",
   "pygments_lexer": "ipython3",
   "version": "3.5.2"
  }
 },
 "nbformat": 4,
 "nbformat_minor": 0
}
